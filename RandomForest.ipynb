{
 "cells": [
  {
   "cell_type": "code",
   "execution_count": 1,
   "id": "5dd33f35",
   "metadata": {},
   "outputs": [],
   "source": [
    "import librosa\n",
    "import soundfile\n",
    "import os, glob, pickle\n",
    "import numpy as np\n",
    "from sklearn.model_selection import train_test_split\n",
    "from sklearn.ensemble import RandomForestClassifier\n",
    "from sklearn.metrics import accuracy_score\n",
    "from sklearn.metrics import classification_report\n",
    "from sklearn.metrics import confusion_matrix\n",
    "\n"
   ]
  },
  {
   "cell_type": "code",
   "execution_count": 2,
   "id": "59475ebc",
   "metadata": {},
   "outputs": [],
   "source": [
    "def extract_feature(file_name, mfcc, chroma, mel):\n",
    "    with soundfile.SoundFile(file_name) as sound_file:\n",
    "        X = sound_file.read(dtype=\"float32\")\n",
    "        sample_rate=sound_file.samplerate\n",
    "        if chroma:\n",
    "            stft=np.abs(librosa.stft(X))\n",
    "        result=np.array([])\n",
    "        if mfcc:\n",
    "            mfccs=np.mean(librosa.feature.mfcc(y=X, sr=sample_rate, n_mfcc=40).T, axis=0)\n",
    "            result=np.hstack((result, mfccs))\n",
    "        if chroma:\n",
    "            chroma=np.mean(librosa.feature.chroma_stft(S=stft, sr=sample_rate).T,axis=0)\n",
    "            result=np.hstack((result, chroma))\n",
    "        if mel:\n",
    "            mel=np.mean(librosa.feature.melspectrogram(X, sr=sample_rate).T,axis=0)\n",
    "            result=np.hstack((result, mel))\n",
    "    return result\n"
   ]
  },
  {
   "cell_type": "code",
   "execution_count": 3,
   "id": "68765c80",
   "metadata": {},
   "outputs": [],
   "source": [
    "emotions={\n",
    "  '01':'neutral',\n",
    "  '02':'calm',\n",
    "  '03':'happy',\n",
    "  '04':'sad',\n",
    "  '05':'angry',\n",
    "  '06':'fearful',\n",
    "  '07':'disgust',\n",
    "  '08':'surprised'\n",
    "}\n",
    "\n",
    "observed_emotions=['calm', 'happy', 'fearful', 'disgust']\n"
   ]
  },
  {
   "cell_type": "code",
   "execution_count": 4,
   "id": "a4af09b9",
   "metadata": {},
   "outputs": [],
   "source": [
    "def load_data(test_size=0.2):\n",
    "    x,y=[],[]\n",
    "    for file in glob.glob(\"E:\\Final Project\\speech-emotion-recognition-ravdess-data\\\\Actor_*\\\\*.wav\"):\n",
    "        file_name=os.path.basename(file)\n",
    "        emotion=emotions[file_name.split(\"-\")[2]]\n",
    "        if emotion not in observed_emotions:\n",
    "            continue\n",
    "        feature=extract_feature(file, mfcc=True, chroma=True, mel=True)\n",
    "        x.append(feature)\n",
    "        y.append(emotion)\n",
    "    return train_test_split(np.array(x), y, test_size=test_size, random_state=9)\n"
   ]
  },
  {
   "cell_type": "code",
   "execution_count": 5,
   "id": "71f0b54f",
   "metadata": {},
   "outputs": [],
   "source": [
    "x_train,x_test,y_train,y_test=load_data(test_size=0.25)\n"
   ]
  },
  {
   "cell_type": "code",
   "execution_count": 6,
   "id": "98a63cc0",
   "metadata": {},
   "outputs": [
    {
     "name": "stdout",
     "output_type": "stream",
     "text": [
      "(576, 192)\n"
     ]
    }
   ],
   "source": [
    "print((x_train.shape[0], x_test.shape[0]))"
   ]
  },
  {
   "cell_type": "code",
   "execution_count": 7,
   "id": "f04e64d2",
   "metadata": {},
   "outputs": [
    {
     "name": "stdout",
     "output_type": "stream",
     "text": [
      "Features extracted: 180\n"
     ]
    }
   ],
   "source": [
    "print(f'Features extracted: {x_train.shape[1]}')"
   ]
  },
  {
   "cell_type": "code",
   "execution_count": 8,
   "id": "4cf76fea",
   "metadata": {},
   "outputs": [
    {
     "name": "stdout",
     "output_type": "stream",
     "text": [
      "0.703125\n",
      "              precision    recall  f1-score   support\n",
      "\n",
      "        calm       0.75      0.91      0.83        57\n",
      "     disgust       0.65      0.67      0.66        48\n",
      "     fearful       0.71      0.65      0.68        37\n",
      "       happy       0.68      0.54      0.60        50\n",
      "\n",
      "    accuracy                           0.70       192\n",
      "   macro avg       0.70      0.69      0.69       192\n",
      "weighted avg       0.70      0.70      0.70       192\n",
      "\n",
      "[[52  3  0  2]\n",
      " [ 7 32  2  7]\n",
      " [ 5  4 24  4]\n",
      " [ 5 10  8 27]]\n"
     ]
    }
   ],
   "source": [
    " # create regressor object \n",
    "classifier = RandomForestClassifier(n_estimators = 100, random_state = 0) \n",
    "  \n",
    "# fit the regressor with x and y data \n",
    "classifier.fit(x_train, y_train)   \n",
    "\n",
    "c_p = classifier.predict(x_test) \n",
    "\n",
    "\n",
    "print(accuracy_score(y_true=y_test,y_pred=c_p))\n",
    "print(classification_report(y_test,c_p)) \n",
    "# creating a confusion matrix \n",
    "print(confusion_matrix(y_test,c_p) )\n"
   ]
  },
  {
   "cell_type": "code",
   "execution_count": 9,
   "id": "7104fadc",
   "metadata": {},
   "outputs": [
    {
     "name": "stdout",
     "output_type": "stream",
     "text": [
      "0.671875\n",
      "              precision    recall  f1-score   support\n",
      "\n",
      "        calm       0.74      0.86      0.80        57\n",
      "     disgust       0.63      0.65      0.64        48\n",
      "     fearful       0.62      0.68      0.65        37\n",
      "       happy       0.65      0.48      0.55        50\n",
      "\n",
      "    accuracy                           0.67       192\n",
      "   macro avg       0.66      0.67      0.66       192\n",
      "weighted avg       0.67      0.67      0.67       192\n",
      "\n",
      "[[49  7  0  1]\n",
      " [ 7 31  2  8]\n",
      " [ 5  3 25  4]\n",
      " [ 5  8 13 24]]\n"
     ]
    }
   ],
   "source": [
    " # create regressor object \n",
    "classifier = RandomForestClassifier(n_estimators = 20,random_state = 0) \n",
    "  \n",
    "# fit the regressor with x and y data \n",
    "classifier.fit(x_train, y_train)   \n",
    "\n",
    "c_p = classifier.predict(x_test) \n",
    "\n",
    "\n",
    "print(accuracy_score(y_true=y_test,y_pred=c_p))\n",
    "print(classification_report(y_test,c_p)) \n",
    "# creating a confusion matrix \n",
    "print(confusion_matrix(y_test,c_p) )\n"
   ]
  },
  {
   "cell_type": "code",
   "execution_count": null,
   "id": "91a9c5f0",
   "metadata": {},
   "outputs": [],
   "source": []
  }
 ],
 "metadata": {
  "kernelspec": {
   "display_name": "Python 3 (ipykernel)",
   "language": "python",
   "name": "python3"
  },
  "language_info": {
   "codemirror_mode": {
    "name": "ipython",
    "version": 3
   },
   "file_extension": ".py",
   "mimetype": "text/x-python",
   "name": "python",
   "nbconvert_exporter": "python",
   "pygments_lexer": "ipython3",
   "version": "3.9.7"
  }
 },
 "nbformat": 4,
 "nbformat_minor": 5
}
